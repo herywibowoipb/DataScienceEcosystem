{
 "cells": [
  {
   "cell_type": "markdown",
   "id": "010a57a3-b3b4-4f7a-82d9-4b739a817cac",
   "metadata": {},
   "source": [
    "<h1>Data Science Tools and Ecosystem<h1>"
   ]
  },
  {
   "cell_type": "markdown",
   "id": "5ea770c2-97ac-435f-af73-09b423667d0c",
   "metadata": {},
   "source": [
    "<h3>In this notebook, Data Science Tools and Ecosystem are summarized.<h3>"
   ]
  },
  {
   "cell_type": "markdown",
   "id": "66ee6b54-f934-4a64-981f-856a5636e73d",
   "metadata": {},
   "source": [
    "Some of the popular languages that Data Scientists use are:\n",
    "<ol>\n",
    "<li>Python</li>\n",
    "<li>R</li>\n",
    "<li>Julia</li>\n",
    "</ol>"
   ]
  },
  {
   "cell_type": "markdown",
   "id": "c1b85ad8-4dbb-4c92-8ae3-13b22b00d559",
   "metadata": {},
   "source": [
    "Some of the commonly used libraries used by Data Scientists include:\n",
    "<ol>\n",
    "<li>Scikit-learn</li>\n",
    "<li>TensorFlow</li>\n",
    "<li>Keras</li>\n",
    "</ol>"
   ]
  },
  {
   "cell_type": "markdown",
   "id": "d4409542-ee3e-4ae1-9fd9-bec1588b443e",
   "metadata": {},
   "source": [
    "<table >\n",
    "    <tr><th>Data Science Tools<th><tr>\n",
    "    <tr><td>Jupyter Notebook<td><tr>\n",
    "    <tr><td>Spyder<td><tr>\n",
    "    <tr><td>Visual Studio<td><tr>\n",
    "<table>"
   ]
  },
  {
   "cell_type": "markdown",
   "id": "1fd7b630-3ee3-4f40-a06f-680c8b012045",
   "metadata": {},
   "source": [
    "<h3>Below are a few examples of evaluating arithmetic expressions in Python<h3>\n"
   ]
  },
  {
   "cell_type": "code",
   "execution_count": 4,
   "id": "2db729a6-3042-449d-8f7f-9d124f17c28f",
   "metadata": {},
   "outputs": [
    {
     "data": {
      "text/plain": [
       "17"
      ]
     },
     "execution_count": 4,
     "metadata": {},
     "output_type": "execute_result"
    }
   ],
   "source": [
    "(3*4)+5 #This a simple arithmetic expression to mutiply then add integers"
   ]
  },
  {
   "cell_type": "code",
   "execution_count": 8,
   "id": "ebf19d7e-e1e9-417d-ba3d-5139902bb211",
   "metadata": {},
   "outputs": [
    {
     "name": "stdout",
     "output_type": "stream",
     "text": [
      "3.3333333333333335 hours \n"
     ]
    }
   ],
   "source": [
    "time = 200\n",
    "hours = time / 60\n",
    "print(str(hours) + \" hours \")"
   ]
  },
  {
   "cell_type": "markdown",
   "id": "007d353c-e646-4c18-a293-192bcc00f72f",
   "metadata": {},
   "source": [
    "<b>Objectives:</b>\n",
    "<br>\n",
    "Some of the popular languages that Data Scientists use are:\n",
    "<ul>\n",
    "<li>Python</li>\n",
    "<li>R</li>\n",
    "<li>Julia</li>\n",
    "<li>Scala</li>\n",
    "<li>C++</li>\n",
    "</ul>"
   ]
  },
  {
   "cell_type": "markdown",
   "id": "0108c1e1-d161-4cf9-8d48-d257f3f22b64",
   "metadata": {},
   "source": [
    "<h2>Author:</h2>\n",
    "<br>\n",
    "Hery Wibowo"
   ]
  },
  {
   "cell_type": "code",
   "execution_count": null,
   "id": "7465ae3a-fbb4-4655-847e-861a4af1b294",
   "metadata": {},
   "outputs": [],
   "source": []
  }
 ],
 "metadata": {
  "kernelspec": {
   "display_name": "Python 3 (ipykernel)",
   "language": "python",
   "name": "python3"
  },
  "language_info": {
   "codemirror_mode": {
    "name": "ipython",
    "version": 3
   },
   "file_extension": ".py",
   "mimetype": "text/x-python",
   "name": "python",
   "nbconvert_exporter": "python",
   "pygments_lexer": "ipython3",
   "version": "3.11.7"
  }
 },
 "nbformat": 4,
 "nbformat_minor": 5
}
